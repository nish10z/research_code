{
 "cells": [
  {
   "cell_type": "code",
   "execution_count": 15,
   "metadata": {},
   "outputs": [
    {
     "name": "stderr",
     "output_type": "stream",
     "text": [
      "<input>:2: DeprecationWarning: invalid escape sequence \\l\n",
      "<input>:2: DeprecationWarning: invalid escape sequence \\l\n",
      "<input>:2: DeprecationWarning: invalid escape sequence \\l\n",
      "<ipython-input-15-c37b8688b3ec>:2: DeprecationWarning: invalid escape sequence \\l\n",
      "  l = var('l', latex_name='\\lambda')\n"
     ]
    }
   ],
   "source": [
    "p, q, eps = var('p q epsilon')\n",
    "l = var('l', latex_name='\\lambda')"
   ]
  },
  {
   "cell_type": "code",
   "execution_count": 16,
   "metadata": {},
   "outputs": [],
   "source": [
    "B_eps = Matrix([[p, l*p],[q, l*q + eps]])"
   ]
  },
  {
   "cell_type": "code",
   "execution_count": 17,
   "metadata": {},
   "outputs": [
    {
     "data": {
      "text/html": [
       "<html><script type=\"math/tex; mode=display\">\\newcommand{\\Bold}[1]{\\mathbf{#1}}\\left(\\begin{array}{rr}\n",
       "p & {\\lambda} p \\\\\n",
       "q & {\\lambda} q + \\epsilon\n",
       "\\end{array}\\right)</script></html>"
      ],
      "text/plain": [
       "[            p           l*p]\n",
       "[            q l*q + epsilon]"
      ]
     },
     "metadata": {},
     "output_type": "display_data"
    }
   ],
   "source": [
    "show(B_eps)"
   ]
  },
  {
   "cell_type": "code",
   "execution_count": 26,
   "metadata": {},
   "outputs": [
    {
     "data": {
      "text/html": [
       "<html><script type=\"math/tex; mode=display\">\\newcommand{\\Bold}[1]{\\mathbf{#1}}\\left(\\begin{array}{rr}\n",
       "\\frac{{\\lambda} q}{\\epsilon p} + \\frac{1}{p} & -\\frac{{\\lambda}}{\\epsilon} \\\\\n",
       "-\\frac{q}{\\epsilon p} & \\frac{1}{\\epsilon}\n",
       "\\end{array}\\right)</script></html>"
      ],
      "text/plain": [
       "[l*q/(epsilon*p) + 1/p            -l/epsilon]\n",
       "[       -q/(epsilon*p)             1/epsilon]"
      ]
     },
     "metadata": {},
     "output_type": "display_data"
    }
   ],
   "source": [
    "show((B_eps^-1).simplify())"
   ]
  },
  {
   "cell_type": "code",
   "execution_count": null,
   "metadata": {},
   "outputs": [],
   "source": []
  }
 ],
 "metadata": {
  "kernelspec": {
   "display_name": "SageMath 9.1",
   "language": "sage",
   "name": "sagemath"
  },
  "language_info": {
   "codemirror_mode": {
    "name": "ipython",
    "version": 3
   },
   "file_extension": ".py",
   "mimetype": "text/x-python",
   "name": "python",
   "nbconvert_exporter": "python",
   "pygments_lexer": "ipython3",
   "version": "3.7.3"
  }
 },
 "nbformat": 4,
 "nbformat_minor": 2
}
