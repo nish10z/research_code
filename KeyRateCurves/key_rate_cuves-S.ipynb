{
 "cells": [
  {
   "cell_type": "code",
   "execution_count": 1,
   "metadata": {},
   "outputs": [],
   "source": [
    "x, t1, t2, gamma, kappa = var('x t1 t2 gamma kappa')\n",
    "h(x) = -x*log(x, 2) - (1-x)*log(1-x, 2)\n",
    "# Trade-off functions for S\n",
    "g1(x) = 1 - h(x/(2*(1-gamma)*kappa))\n",
    "dg1 = g1.derivative()\n",
    "f0 = g1 # p(1) >= pt(1)\n",
    "f1 = g1(t1) + dg1(t1)[0]*(t1 - x) # p(1) < pt(1)\n",
    "\n",
    "# Tradeoff functions for J3\n",
    "g2(x) = 1 - h(3-4*x/gamma)\n",
    "dg2 = g2.derivative()\n",
    "f2 = g2\n",
    "f3 = g2(t2) + dg2(t2)[0]*(x - t2)"
   ]
  },
  {
   "cell_type": "code",
   "execution_count": 2,
   "metadata": {},
   "outputs": [
    {
     "data": {
      "text/html": [
       "<html><script type=\"math/tex; mode=display\">\\newcommand{\\Bold}[1]{\\mathbf{#1}}\\verb|leak_ec:| \\frac{1}{4} \\, {\\left(2 \\, {\\left(\\gamma - 1\\right)} \\kappa {\\left(\\frac{Q \\log\\left(\\frac{1}{2} \\, Q\\right)}{\\log\\left(2\\right)} - \\frac{{\\left(Q - 2\\right)} \\log\\left(-\\frac{1}{2} \\, Q + 1\\right)}{\\log\\left(2\\right)}\\right)} - 4 \\, {\\left({\\left(\\gamma - 1\\right)} \\kappa - \\gamma + 1\\right)} {\\left(\\frac{Q \\log\\left(Q\\right)}{\\log\\left(2\\right)} - \\frac{{\\left(Q - 1\\right)} \\log\\left(-Q + 1\\right)}{\\log\\left(2\\right)}\\right)} - \\gamma {\\left(\\frac{{\\left(2 \\, Q + 1\\right)} \\log\\left(\\frac{1}{2} \\, Q + \\frac{1}{4}\\right)}{\\log\\left(2\\right)} - \\frac{{\\left(2 \\, Q - 3\\right)} \\log\\left(-\\frac{1}{2} \\, Q + \\frac{3}{4}\\right)}{\\log\\left(2\\right)}\\right)}\\right)} n + \\frac{4 \\, \\sqrt{2} \\sqrt{n} \\sqrt{\\frac{\\log\\left(\\frac{8}{{\\left({\\epsilon^c_{QKD}} - {\\epsilon_{EC}}\\right)}^{2}}\\right)}{\\log\\left(2\\right)}} \\log\\left(2 \\, \\sqrt{2} + 1\\right)}{\\log\\left(2\\right)} + \\frac{\\log\\left(-\\frac{2}{{\\epsilon^c_{QKD}} - {\\epsilon_{EC}} - 2} + \\frac{8}{{\\left({\\epsilon^c_{QKD}} - {\\epsilon_{EC}}\\right)}^{2}}\\right)}{\\log\\left(2\\right)} + \\frac{\\log\\left(\\frac{1}{{\\epsilon_{EC}}}\\right)}{\\log\\left(2\\right)}</script></html>"
      ],
      "text/plain": [
       "'leak_ec: ' 1/4*(2*(gamma - 1)*kappa*(Q*log(1/2*Q)/log(2) - (Q - 2)*log(-1/2*Q + 1)/log(2)) - 4*((gamma - 1)*kappa - gamma + 1)*(Q*log(Q)/log(2) - (Q - 1)*log(-Q + 1)/log(2)) - gamma*((2*Q + 1)*log(1/2*Q + 1/4)/log(2) - (2*Q - 3)*log(-1/2*Q + 3/4)/log(2)))*n + 4*sqrt(2)*sqrt(n)*sqrt(log(8/(eps_c_qkd - eps_ec)^2)/log(2))*log(2*sqrt(2) + 1)/log(2) + log(-2/(eps_c_qkd - eps_ec - 2) + 8/(eps_c_qkd - eps_ec)^2)/log(2) + log(1/eps_ec)/log(2)"
      ]
     },
     "metadata": {},
     "output_type": "display_data"
    },
    {
     "data": {
      "text/html": [
       "<html><script type=\"math/tex; mode=display\">\\newcommand{\\Bold}[1]{\\mathbf{#1}}\\verb|l:| -\\frac{1}{4} \\, {\\left(2 \\, {\\left(\\gamma - 1\\right)} \\kappa {\\left(\\frac{Q \\log\\left(\\frac{1}{2} \\, Q\\right)}{\\log\\left(2\\right)} - \\frac{{\\left(Q - 2\\right)} \\log\\left(-\\frac{1}{2} \\, Q + 1\\right)}{\\log\\left(2\\right)}\\right)} - 4 \\, {\\left({\\left(\\gamma - 1\\right)} \\kappa - \\gamma + 1\\right)} {\\left(\\frac{Q \\log\\left(Q\\right)}{\\log\\left(2\\right)} - \\frac{{\\left(Q - 1\\right)} \\log\\left(-Q + 1\\right)}{\\log\\left(2\\right)}\\right)} - \\gamma {\\left(\\frac{{\\left(2 \\, Q + 1\\right)} \\log\\left(\\frac{1}{2} \\, Q + \\frac{1}{4}\\right)}{\\log\\left(2\\right)} - \\frac{{\\left(2 \\, Q - 3\\right)} \\log\\left(-\\frac{1}{2} \\, Q + \\frac{3}{4}\\right)}{\\log\\left(2\\right)}\\right)}\\right)} n + {\\left({\\left(\\gamma - 1\\right)} \\kappa - \\gamma\\right)} n + \\frac{1}{2} \\, {\\left(\\eta_{\\mathit{opt}_{J_{3}}} + \\eta_{\\mathit{opt}_{S}}\\right)} n - \\frac{4 \\, \\sqrt{2} \\sqrt{n} \\sqrt{\\frac{\\log\\left(\\frac{8}{{\\left({\\epsilon^c_{QKD}} - {\\epsilon_{EC}}\\right)}^{2}}\\right)}{\\log\\left(2\\right)}} \\log\\left(2 \\, \\sqrt{2} + 1\\right)}{\\log\\left(2\\right)} - \\frac{2 \\, \\sqrt{n} \\sqrt{-\\frac{2 \\, \\log\\left(\\frac{1}{4} \\, {\\left({\\epsilon_{EC}} + {\\epsilon^s_{QKD}}\\right)} {\\epsilon^s_{QKD}}\\right)}{\\log\\left(2\\right)} + 1} \\log\\left(7\\right)}{\\log\\left(2\\right)} - \\frac{3 \\, \\log\\left(-\\sqrt{-\\frac{1}{16} \\, {\\epsilon^s_{QKD}}^{2} + 1} + 1\\right)}{\\log\\left(2\\right)} - \\frac{\\log\\left(-\\frac{2}{{\\epsilon^c_{QKD}} - {\\epsilon_{EC}} - 2} + \\frac{8}{{\\left({\\epsilon^c_{QKD}} - {\\epsilon_{EC}}\\right)}^{2}}\\right)}{\\log\\left(2\\right)} - \\frac{\\log\\left(\\frac{1}{{\\epsilon_{EC}}}\\right)}{\\log\\left(2\\right)} - \\frac{2 \\, \\log\\left(\\frac{1}{{\\epsilon^s_{QKD}}}\\right)}{\\log\\left(2\\right)}</script></html>"
      ],
      "text/plain": [
       "'l: ' -1/4*(2*(gamma - 1)*kappa*(Q*log(1/2*Q)/log(2) - (Q - 2)*log(-1/2*Q + 1)/log(2)) - 4*((gamma - 1)*kappa - gamma + 1)*(Q*log(Q)/log(2) - (Q - 1)*log(-Q + 1)/log(2)) - gamma*((2*Q + 1)*log(1/2*Q + 1/4)/log(2) - (2*Q - 3)*log(-1/2*Q + 3/4)/log(2)))*n + ((gamma - 1)*kappa - gamma)*n + 1/2*(eta_opt_J3 + eta_opt_S)*n - 4*sqrt(2)*sqrt(n)*sqrt(log(8/(eps_c_qkd - eps_ec)^2)/log(2))*log(2*sqrt(2) + 1)/log(2) - 2*sqrt(n)*sqrt(-2*log(1/4*(eps_ec + eps_s_qkd)*eps_s_qkd)/log(2) + 1)*log(7)/log(2) - 3*log(-sqrt(-1/16*eps_s_qkd^2 + 1) + 1)/log(2) - log(-2/(eps_c_qkd - eps_ec - 2) + 8/(eps_c_qkd - eps_ec)^2)/log(2) - log(1/eps_ec)/log(2) - 2*log(1/eps_s_qkd)/log(2)"
      ]
     },
     "metadata": {},
     "output_type": "display_data"
    }
   ],
   "source": [
    "n = var('n')\n",
    "eps_ec = var('eps_ec', latex_name=\"\\\\epsilon_{EC}\")\n",
    "eps_s_qkd = var('eps_s_qkd', latex_name=\"\\\\epsilon^s_{QKD}\")\n",
    "eps_c_qkd = var('eps_c_qkd', latex_name=\"\\\\epsilon^c_{QKD}\")\n",
    "delta_est = var('delta_est')\n",
    "\n",
    "eta_opt_J3 = var('eta_opt_J3')\n",
    "eta_opt_S = var('eta_opt_S')\n",
    "\n",
    "J_3 = var('J_3')\n",
    "S = var('S')\n",
    "Q = var('Q')\n",
    "S = Q/2\n",
    "J_3 = 3/4*Q - 1/8\n",
    "\n",
    "#eps_c_ec = eps'_ec + eps_ec\n",
    "test_prob = gamma + kappa*(1-gamma)\n",
    "leak_ec = n*( (1-test_prob)*h(Q) + gamma*h(2/3 - 2/3*J_3) + kappa*(1-gamma)*h(S) ) \\\n",
    "        + sqrt(n)*4*log(2*sqrt(2)+1,2)*sqrt(2*log(8/(eps_c_qkd - eps_ec)^2,2))\\\n",
    "            + log(8/(eps_c_qkd - eps_ec)^2 + 2/(2-(eps_c_qkd - eps_ec)),2) + log(1/eps_ec,2)\n",
    "show(\"leak_ec: \", leak_ec)\n",
    "\n",
    "l = n/2*(eta_opt_J3 + eta_opt_S) - leak_ec - 3*log(1-sqrt(1-(eps_s_qkd/4)^2), 2) \\\n",
    "                   - (gamma + kappa*(1-gamma))*n - sqrt(n)*2*log(7, 2)*sqrt(1-2*log(eps_s_qkd/4*(eps_ec + eps_s_qkd),2)) - 2*log(1/eps_s_qkd,2)\n",
    "\n",
    "show(\"l: \", l)"
   ]
  },
  {
   "cell_type": "code",
   "execution_count": 12,
   "metadata": {},
   "outputs": [
    {
     "data": {
      "text/html": [
       "<html><script type=\"math/tex; mode=display\">\\newcommand{\\Bold}[1]{\\mathbf{#1}}\\left[t_{1} = \\frac{8916467200000000 \\, \\sqrt{n} \\log\\left(\\frac{100000000}{18827} \\, t_{1}\\right) - 8916467200000000 \\, \\sqrt{n} \\log\\left(-\\frac{100000000}{18827} \\, t_{1} + 1\\right) + 4458233600000000 \\, \\sqrt{n} - \\sqrt{\\frac{79503387328675840000000000000000 \\, n \\log\\left(2\\right) \\log\\left(\\frac{100000000}{18827} \\, t_{1}\\right)^{2} + 79503387328675840000000000000000 \\, n \\log\\left(2\\right) \\log\\left(-\\frac{100000000}{18827} \\, t_{1} + 1\\right)^{2} + 19875846832168960000000000000000 \\, n \\log\\left(2\\right) - 715555409267200000000 \\, \\sqrt{n} \\sqrt{\\frac{\\log\\left(2\\right) - 2 \\, \\log\\left(\\frac{1}{4} \\, {\\epsilon_{EC}} {\\epsilon^s_{QKD}} + \\frac{1}{4} \\, {\\epsilon^s_{QKD}}^{2}\\right)}{\\log\\left(2\\right)}} \\log\\left(2\\right) + 17832934400000000 \\, {\\left(4458233600000000 \\, n \\log\\left(2\\right) - 94719999999999919749 \\, \\sqrt{n} \\sqrt{\\frac{\\log\\left(2\\right) - 2 \\, \\log\\left(\\frac{1}{4} \\, {\\epsilon_{EC}} {\\epsilon^s_{QKD}} + \\frac{1}{4} \\, {\\epsilon^s_{QKD}}^{2}\\right)}{\\log\\left(2\\right)}} \\log\\left(2\\right)\\right)} \\log\\left(\\frac{100000000}{18827} \\, t_{1}\\right) - 17832934400000000 \\, {\\left(8916467200000000 \\, n \\log\\left(2\\right) \\log\\left(\\frac{100000000}{18827} \\, t_{1}\\right) + 4458233600000000 \\, n \\log\\left(2\\right) - 94719999999999919749 \\, \\sqrt{n} \\sqrt{\\frac{\\log\\left(2\\right) - 2 \\, \\log\\left(\\frac{1}{4} \\, {\\epsilon_{EC}} {\\epsilon^s_{QKD}} + \\frac{1}{4} \\, {\\epsilon^s_{QKD}}^{2}\\right)}{\\log\\left(2\\right)}} \\log\\left(2\\right)\\right)} \\log\\left(-\\frac{100000000}{18827} \\, t_{1} + 1\\right) + 6440223001 \\, \\log\\left(2\\right) - 12880446002 \\, \\log\\left(\\frac{1}{4} \\, {\\epsilon_{EC}} {\\epsilon^s_{QKD}} + \\frac{1}{4} \\, {\\epsilon^s_{QKD}}^{2}\\right)}{\\log\\left(2\\right)}} + 80251 \\, \\sqrt{\\frac{\\log\\left(2\\right) - 2 \\, \\log\\left(\\frac{1}{4} \\, {\\epsilon_{EC}} {\\epsilon^s_{QKD}} + \\frac{1}{4} \\, {\\epsilon^s_{QKD}}^{2}\\right)}{\\log\\left(2\\right)}}}{94720000000000000000 \\, \\sqrt{n} \\log\\left(\\frac{100000000}{18827} \\, t_{1}\\right) - 94720000000000000000 \\, \\sqrt{n} \\log\\left(-\\frac{100000000}{18827} \\, t_{1} + 1\\right) + 80251 \\, \\sqrt{n}}, t_{1} = \\frac{8916467200000000 \\, \\sqrt{n} \\log\\left(\\frac{100000000}{18827} \\, t_{1}\\right) - 8916467200000000 \\, \\sqrt{n} \\log\\left(-\\frac{100000000}{18827} \\, t_{1} + 1\\right) + 4458233600000000 \\, \\sqrt{n} + \\sqrt{\\frac{79503387328675840000000000000000 \\, n \\log\\left(2\\right) \\log\\left(\\frac{100000000}{18827} \\, t_{1}\\right)^{2} + 79503387328675840000000000000000 \\, n \\log\\left(2\\right) \\log\\left(-\\frac{100000000}{18827} \\, t_{1} + 1\\right)^{2} + 19875846832168960000000000000000 \\, n \\log\\left(2\\right) - 715555409267200000000 \\, \\sqrt{n} \\sqrt{\\frac{\\log\\left(2\\right) - 2 \\, \\log\\left(\\frac{1}{4} \\, {\\epsilon_{EC}} {\\epsilon^s_{QKD}} + \\frac{1}{4} \\, {\\epsilon^s_{QKD}}^{2}\\right)}{\\log\\left(2\\right)}} \\log\\left(2\\right) + 17832934400000000 \\, {\\left(4458233600000000 \\, n \\log\\left(2\\right) - 94719999999999919749 \\, \\sqrt{n} \\sqrt{\\frac{\\log\\left(2\\right) - 2 \\, \\log\\left(\\frac{1}{4} \\, {\\epsilon_{EC}} {\\epsilon^s_{QKD}} + \\frac{1}{4} \\, {\\epsilon^s_{QKD}}^{2}\\right)}{\\log\\left(2\\right)}} \\log\\left(2\\right)\\right)} \\log\\left(\\frac{100000000}{18827} \\, t_{1}\\right) - 17832934400000000 \\, {\\left(8916467200000000 \\, n \\log\\left(2\\right) \\log\\left(\\frac{100000000}{18827} \\, t_{1}\\right) + 4458233600000000 \\, n \\log\\left(2\\right) - 94719999999999919749 \\, \\sqrt{n} \\sqrt{\\frac{\\log\\left(2\\right) - 2 \\, \\log\\left(\\frac{1}{4} \\, {\\epsilon_{EC}} {\\epsilon^s_{QKD}} + \\frac{1}{4} \\, {\\epsilon^s_{QKD}}^{2}\\right)}{\\log\\left(2\\right)}} \\log\\left(2\\right)\\right)} \\log\\left(-\\frac{100000000}{18827} \\, t_{1} + 1\\right) + 6440223001 \\, \\log\\left(2\\right) - 12880446002 \\, \\log\\left(\\frac{1}{4} \\, {\\epsilon_{EC}} {\\epsilon^s_{QKD}} + \\frac{1}{4} \\, {\\epsilon^s_{QKD}}^{2}\\right)}{\\log\\left(2\\right)}} + 80251 \\, \\sqrt{\\frac{\\log\\left(2\\right) - 2 \\, \\log\\left(\\frac{1}{4} \\, {\\epsilon_{EC}} {\\epsilon^s_{QKD}} + \\frac{1}{4} \\, {\\epsilon^s_{QKD}}^{2}\\right)}{\\log\\left(2\\right)}}}{94720000000000000000 \\, \\sqrt{n} \\log\\left(\\frac{100000000}{18827} \\, t_{1}\\right) - 94720000000000000000 \\, \\sqrt{n} \\log\\left(-\\frac{100000000}{18827} \\, t_{1} + 1\\right) + 80251 \\, \\sqrt{n}}\\right]</script></html>"
      ],
      "text/plain": [
       "[t1 == (8916467200000000*sqrt(n)*log(100000000/18827*t1) - 8916467200000000*sqrt(n)*log(-100000000/18827*t1 + 1) + 4458233600000000*sqrt(n) - sqrt((79503387328675840000000000000000*n*log(2)*log(100000000/18827*t1)^2 + 79503387328675840000000000000000*n*log(2)*log(-100000000/18827*t1 + 1)^2 + 19875846832168960000000000000000*n*log(2) - 715555409267200000000*sqrt(n)*sqrt((log(2) - 2*log(1/4*eps_ec*eps_s_qkd + 1/4*eps_s_qkd^2))/log(2))*log(2) + 17832934400000000*(4458233600000000*n*log(2) - 94719999999999919749*sqrt(n)*sqrt((log(2) - 2*log(1/4*eps_ec*eps_s_qkd + 1/4*eps_s_qkd^2))/log(2))*log(2))*log(100000000/18827*t1) - 17832934400000000*(8916467200000000*n*log(2)*log(100000000/18827*t1) + 4458233600000000*n*log(2) - 94719999999999919749*sqrt(n)*sqrt((log(2) - 2*log(1/4*eps_ec*eps_s_qkd + 1/4*eps_s_qkd^2))/log(2))*log(2))*log(-100000000/18827*t1 + 1) + 6440223001*log(2) - 12880446002*log(1/4*eps_ec*eps_s_qkd + 1/4*eps_s_qkd^2))/log(2)) + 80251*sqrt((log(2) - 2*log(1/4*eps_ec*eps_s_qkd + 1/4*eps_s_qkd^2))/log(2)))/(94720000000000000000*sqrt(n)*log(100000000/18827*t1) - 94720000000000000000*sqrt(n)*log(-100000000/18827*t1 + 1) + 80251*sqrt(n)), t1 == (8916467200000000*sqrt(n)*log(100000000/18827*t1) - 8916467200000000*sqrt(n)*log(-100000000/18827*t1 + 1) + 4458233600000000*sqrt(n) + sqrt((79503387328675840000000000000000*n*log(2)*log(100000000/18827*t1)^2 + 79503387328675840000000000000000*n*log(2)*log(-100000000/18827*t1 + 1)^2 + 19875846832168960000000000000000*n*log(2) - 715555409267200000000*sqrt(n)*sqrt((log(2) - 2*log(1/4*eps_ec*eps_s_qkd + 1/4*eps_s_qkd^2))/log(2))*log(2) + 17832934400000000*(4458233600000000*n*log(2) - 94719999999999919749*sqrt(n)*sqrt((log(2) - 2*log(1/4*eps_ec*eps_s_qkd + 1/4*eps_s_qkd^2))/log(2))*log(2))*log(100000000/18827*t1) - 17832934400000000*(8916467200000000*n*log(2)*log(100000000/18827*t1) + 4458233600000000*n*log(2) - 94719999999999919749*sqrt(n)*sqrt((log(2) - 2*log(1/4*eps_ec*eps_s_qkd + 1/4*eps_s_qkd^2))/log(2))*log(2))*log(-100000000/18827*t1 + 1) + 6440223001*log(2) - 12880446002*log(1/4*eps_ec*eps_s_qkd + 1/4*eps_s_qkd^2))/log(2)) + 80251*sqrt((log(2) - 2*log(1/4*eps_ec*eps_s_qkd + 1/4*eps_s_qkd^2))/log(2)))/(94720000000000000000*sqrt(n)*log(100000000/18827*t1) - 94720000000000000000*sqrt(n)*log(-100000000/18827*t1 + 1) + 80251*sqrt(n))]"
      ]
     },
     "metadata": {},
     "output_type": "display_data"
    }
   ],
   "source": [
    "show(solve(eta_S(0, eps_s_qkd/4, eps_ec + eps_s_qkd, n).subs(kappa=kappa0, gamma=gamma0).differentiate(t1), t1))"
   ]
  },
  {
   "cell_type": "code",
   "execution_count": 7,
   "metadata": {},
   "outputs": [
    {
     "data": {
      "text/html": [
       "<html><script type=\"math/tex; mode=display\">\\newcommand{\\Bold}[1]{\\mathbf{#1}}-\\frac{1}{100000000} \\, \\sqrt{10} {\\left(\\frac{4 \\, \\log\\left(3\\right)}{\\log\\left(2\\right)} + \\frac{10623.0413767462 \\, \\log\\left(5311.52068837308 \\, t_{1}\\right)}{\\log\\left(2\\right)} - \\frac{10623.0413767462 \\, \\log\\left(-5311.52068837308 \\, t_{1} + 1\\right)}{\\log\\left(2\\right)}\\right)} \\sqrt{-\\frac{2 \\, \\log\\left(\\frac{100001}{4000000000000000}\\right)}{\\log\\left(2\\right)} + 1} + \\frac{1}{2} \\, t_{1} {\\left(\\frac{10623.0413767462 \\, \\log\\left(5311.52068837308 \\, t_{1}\\right)}{\\log\\left(2\\right)} - \\frac{10623.0413767462 \\, \\log\\left(-5311.52068837308 \\, t_{1} + 1\\right)}{\\log\\left(2\\right)}\\right)} + \\frac{5311.52068837308 \\, t_{1} \\log\\left(5311.52068837308 \\, t_{1}\\right)}{\\log\\left(2\\right)} + \\frac{{\\left(-10623.0413767462 \\, t_{1} + 2\\right)} \\log\\left(-5311.52068837308 \\, t_{1} + 1\\right)}{2 \\, \\log\\left(2\\right)} + 1</script></html>"
      ],
      "text/plain": [
       "-1/100000000*sqrt(10)*(4*log(3)/log(2) + 10623.0413767462*log(5311.52068837308*t1)/log(2) - 10623.0413767462*log(-5311.52068837308*t1 + 1)/log(2))*sqrt(-2*log(100001/4000000000000000)/log(2) + 1) + 1/2*t1*(10623.0413767462*log(5311.52068837308*t1)/log(2) - 10623.0413767462*log(-5311.52068837308*t1 + 1)/log(2)) + 5311.52068837308*t1*log(5311.52068837308*t1)/log(2) + 1/2*(-10623.0413767462*t1 + 2)*log(-5311.52068837308*t1 + 1)/log(2) + 1"
      ]
     },
     "metadata": {},
     "output_type": "display_data"
    },
    {
     "data": {
      "image/png": "[encoded data removed]",
      "text/plain": [
       "Graphics object consisting of 0 graphics primitives"
      ]
     },
     "metadata": {},
     "output_type": "display_data"
    }
   ],
   "source": [
    "p0, p1, p2 = var('p0 p1 p2', domain=\"real\")\n",
    "\n",
    "eta_J3 = lambda x_0, eps_s, eps_2, n: f3(x=x_0) - 1/sqrt(n)*2*(log(9,2) + dg2(x=t2)[0])*sqrt(1 - 2*log(eps_s*eps_2,2))\n",
    "eta_S = lambda x_0, eps_s, eps_2, n: f1(x=x_0) - 1/sqrt(n)*2*(log(9,2) + dg1(x=t1)[0])*sqrt(1 - 2*log(eps_s*eps_2,2))\n",
    "\n",
    "L2 = []\n",
    "gamma0=2*(p0*p1 + p0*p2 + p1*p2).subs(p0=0.97, p1=0.015, p2=0.015)\n",
    "kappa0 = 10^-4\n",
    "n0=10^15\n",
    "for k in range(0, 21):\n",
    "    Q_val = k*0.07/20\n",
    "    x_0_j = (gamma*(2/3 - 2/3*J_3) - 10^-3).subs(Q=Q_val)\n",
    "    x_0_s = (kappa*(1-gamma)*S).subs(Q=Q_val)\n",
    "    eta_val_J3 = (eta_J3(x_0_j, eps_s_qkd/4, eps_ec + eps_s_qkd, n)).subs(n=n0) \\\n",
    "                                                        .subs(eps_ec=10^-10) \\\n",
    "                                                        .subs(eps_c_qkd=10^-2) \\\n",
    "                                                        .subs(eps_s_qkd=10^-5) \\\n",
    "                                                        .subs(gamma=gamma0)\n",
    "    eta_val_S = (eta_S(x_0_s, eps_s_qkd/4, eps_ec + eps_s_qkd, n)).subs(n=n0) \\\n",
    "                                                        .subs(eps_ec=10^-10) \\\n",
    "                                                        .subs(eps_c_qkd=10^-2) \\\n",
    "                                                        .subs(eps_s_qkd=10^-5) \\\n",
    "                                                        .subs(gamma=gamma0) \\\n",
    "                                                        .subs(kappa=kappa0)\n",
    "    \n",
    "    t_j = solve(eta_val_J3.derivative(t2)==0,t2)[0].rhs()\n",
    "    t_s = solve(eta_val_S.derivative(t1)==0,t1)[0].rhs()\n",
    "    show(eta_val_S)\n",
    "    break\n",
    "    l_n_val = (l/n).subs(gamma = gamma0) \\\n",
    "                        .subs(Q = Q_val) \\\n",
    "                        .subs(n=n0) \\\n",
    "                        .subs(eps_c_qkd=10^-2) \\\n",
    "                        .subs(eps_s_qkd=10^-5) \\\n",
    "                        .subs(eps_ec=10^-10) \\\n",
    "                        .subs(eta_opt_J3 = eta_val_J3.subs(t2=t_j)) \\\n",
    "                        .subs(eta_opt_S = eta_val_S.subs(t1=t_s)) \\\n",
    "                        .subs(kappa=kappa0)\n",
    "    \n",
    "    show(l_n_val)\n",
    "    break\n",
    "    L2.append((Q_val, N(l_n_val)))\n",
    "    \n",
    "plot_q = list_plot(L2, plotjoined=True)\n",
    "show(plot_q)"
   ]
  },
  {
   "cell_type": "code",
   "execution_count": null,
   "metadata": {},
   "outputs": [],
   "source": []
  }
 ],
 "metadata": {
  "kernelspec": {
   "display_name": "SageMath 9.1",
   "language": "sage",
   "name": "sagemath"
  },
  "language_info": {
   "codemirror_mode": {
    "name": "ipython",
    "version": 3
   },
   "file_extension": ".py",
   "mimetype": "text/x-python",
   "name": "python",
   "nbconvert_exporter": "python",
   "pygments_lexer": "ipython3",
   "version": "3.7.3"
  }
 },
 "nbformat": 4,
 "nbformat_minor": 2
}
