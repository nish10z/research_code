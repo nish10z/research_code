{
 "cells": [
  {
   "cell_type": "code",
   "execution_count": 1,
   "metadata": {},
   "outputs": [],
   "source": [
    "iden = matrix.identity(2)\n",
    "iden4 = matrix.identity(4)\n",
    "\n",
    "# Eigenvectors for Z, X and Y in that order\n",
    "z, o = Matrix([1,0]).transpose(), Matrix([0,1]).transpose()\n",
    "pk, mk = 1/sqrt(2)*Matrix([1,1]).transpose(), 1/sqrt(2)*Matrix([1,-1]).transpose()\n",
    "ip, im = 1/sqrt(2)*Matrix([1,i]).transpose(), 1/sqrt(2)*Matrix([1,-i]).transpose()\n",
    "\n",
    "# Writing Z, X, Y using their spectral decomposition\n",
    "Z = z*z.conjugate_transpose() - o*o.conjugate_transpose()\n",
    "X = pk*pk.conjugate_transpose() - mk*mk.conjugate_transpose()\n",
    "Y = ip*ip.conjugate_transpose() - im*im.conjugate_transpose()\n",
    "\n",
    "e_phi_ideal = [Matrix([0,1]).transpose(), Matrix([sqrt(3)/2, 1/2]).transpose(), Matrix([sqrt(3)/2, -1/2]).transpose()]\n",
    "\n",
    "# Eigenvalues of Alice and Bob's density using the Bell basis\n",
    "l_pp = var('l_pp', domain='real', latex_name='\\\\lambda_{\\\\phi^+}')\n",
    "l_pm = var('l_pm', domain='real', latex_name='\\\\lambda_{\\\\phi^-}')\n",
    "l_sp = var('l_sp', domain='real', latex_name='\\\\lambda_{\\\\psi^+}')\n",
    "l_sm = var('l_sm', domain='real', latex_name='\\\\lambda_{\\\\psi^-}')\n",
    "\n",
    "proj = lambda vec: vec*vec.conjugate_transpose()\n",
    "\n",
    "# Define variables and measurement projections\n",
    "theta1, theta2, gamma1, gamma2 = var('theta1 theta2 gamma1 gamma2', domain='real')\n",
    "eps=var('epsilon', domain='real')\n",
    "delta1, delta2 = var('delta1 delta2', domain = 'real')\n",
    "\n",
    "phi1 = Matrix([cos(theta1), e^(i*gamma1)*sin(theta1)]).transpose()\n",
    "phi2 = Matrix([cos(theta2), e^(i*gamma2)*sin(theta2)]).transpose()\n",
    "pphi0 = proj(z)\n",
    "pphi1 = proj(phi1)\n",
    "pphi2 = proj(phi2)\n",
    "\n",
    "# The measurement\n",
    "E = [[pphi0, iden - pphi0], [pphi1, iden - pphi1], [pphi2, iden - pphi2]]\n",
    "\n",
    "pphi1_ideal = pphi1.subs(theta1=pi/3, gamma1=0)\n",
    "pphi2_ideal = pphi2.subs(theta2=-pi/3, gamma2=0)\n",
    "E_ideal = [[pphi0, iden - pphi0],[pphi1_ideal, iden - pphi1_ideal],[pphi2_ideal, iden - pphi2_ideal]]\n",
    "\n",
    "# Born rule\n",
    "p = lambda y_A, y_B, x_A, x_B, M, rho : l_pp/2*(M[x_A][y_A]*M[x_B][y_B]).trace() + \\\n",
    "                                l_pm/2*(M[x_A][y_A]*Z*M[x_B][y_B]*Z).trace() + \\\n",
    "                                l_sp/2*(M[x_A][y_A]*X*M[x_B][y_B]*X).trace() + \\\n",
    "                                l_sm/2*(M[x_A][y_A]*Y*M[x_B][y_B]*Y).trace()\n",
    "# Assuming l_sp=l_sm=0\n",
    "p_eve = lambda y_A, y_B, x_A, x_B, M : p(y_A, y_B, x_A, x_B, M).subs(l_sp=0, l_sm=0)\n",
    "\n",
    "# Compute J3 given a specific probability distribution and measurement\n",
    "J3 = lambda pr, M, rho: 1 - 1/4*(sum(pr(y_A, y_B, x_A, x_B, M, rho) for y_A in range(2) for y_B in range(2)  \\\n",
    "                   for x_A in range(3) for x_B in range(3) \\\n",
    "                   if y_A != y_B if x_A != x_B))\n",
    "\n",
    "# Compute S given a specific probability distribution and measurement\n",
    "S = lambda pr, M, rho: 1/3*sum(pr(y_A, y_B, x, x, M, rho) for y_A in range(2) for y_B in range(2) \\\n",
    "                      for x in range(3) if y_A != y_B)"
   ]
  },
  {
   "cell_type": "code",
   "execution_count": 2,
   "metadata": {},
   "outputs": [
    {
     "data": {
      "text/html": [
       "<html><script type=\"math/tex; mode=display\">\\newcommand{\\Bold}[1]{\\mathbf{#1}}\\frac{3}{8} \\, \\nu - \\frac{1}{8}</script></html>"
      ],
      "text/plain": [
       "3/8*nu - 1/8"
      ]
     },
     "metadata": {},
     "output_type": "display_data"
    },
    {
     "data": {
      "text/html": [
       "<html><script type=\"math/tex; mode=display\">\\newcommand{\\Bold}[1]{\\mathbf{#1}}\\frac{1}{2} \\, \\nu</script></html>"
      ],
      "text/plain": [
       "1/2*nu"
      ]
     },
     "metadata": {},
     "output_type": "display_data"
    },
    {
     "data": {
      "text/html": [
       "<html><script type=\"math/tex; mode=display\">\\newcommand{\\Bold}[1]{\\mathbf{#1}}-\\frac{1}{8}</script></html>"
      ],
      "text/plain": [
       "-1/8"
      ]
     },
     "metadata": {},
     "output_type": "display_data"
    },
    {
     "data": {
      "text/html": [
       "<html><script type=\"math/tex; mode=display\">\\newcommand{\\Bold}[1]{\\mathbf{#1}}0</script></html>"
      ],
      "text/plain": [
       "0"
      ]
     },
     "metadata": {},
     "output_type": "display_data"
    }
   ],
   "source": [
    "epr = 1/2*Matrix([[1,0,0,1],[0,0,0,0],[0,0,0,0],[1,0,0,1]])\n",
    "nu = var('nu', domain='real')\n",
    "werner = (1-nu)*epr + nu*1/4*iden4\n",
    "\n",
    "p_given_rho = lambda y_A, y_B, x_A, x_B, M, rho: ((M[x_A][y_A].tensor_product(M[x_B][y_B]))*rho).trace()\n",
    "\n",
    "show(J3(p_given_rho, E_ideal, werner))\n",
    "show(S(p_given_rho, E_ideal, werner))\n",
    "show(J3(p_given_rho, E_ideal, epr))\n",
    "show(S(p_given_rho, E_ideal, epr))"
   ]
  },
  {
   "cell_type": "code",
   "execution_count": 3,
   "metadata": {},
   "outputs": [
    {
     "data": {
      "text/html": [
       "<html><script type=\"math/tex; mode=display\">\\newcommand{\\Bold}[1]{\\mathbf{#1}}x \\ {\\mapsto}\\ \\left(\\frac{4 \\, \\log\\left(\\frac{4 \\, x}{\\gamma} - 2\\right)}{\\gamma \\log\\left(2\\right)} - \\frac{4 \\, \\log\\left(-\\frac{4 \\, x}{\\gamma} + 3\\right)}{\\gamma \\log\\left(2\\right)}\\right)</script></html>"
      ],
      "text/plain": [
       "x |--> (4*log(4*x/gamma - 2)/(gamma*log(2)) - 4*log(-4*x/gamma + 3)/(gamma*log(2)))"
      ]
     },
     "metadata": {},
     "output_type": "display_data"
    }
   ],
   "source": [
    "var(\"x t gamma\")\n",
    "h(x) = - x*log(x,2) - (1-x)*log(1-x,2)\n",
    "g(x) = 1 - h(3-4*x/gamma)\n",
    "dg = g.derivative()\n",
    "show (dg)\n",
    "f0 = g # x < t\n",
    "f1 = dg(t)[0]*x + g(t) - dg(t)[0]*t # x > t"
   ]
  },
  {
   "cell_type": "code",
   "execution_count": 6,
   "metadata": {},
   "outputs": [
    {
     "data": {
      "text/html": [
       "<html><script type=\"math/tex; mode=display\">\\newcommand{\\Bold}[1]{\\mathbf{#1}}\\verb|leak_ec:| \\frac{1}{4} \\, {\\left(4 \\, {\\left(\\gamma - 1\\right)} {\\left(\\frac{Q \\log\\left(Q\\right)}{\\log\\left(2\\right)} - \\frac{{\\left(Q - 1\\right)} \\log\\left(-Q + 1\\right)}{\\log\\left(2\\right)}\\right)} - \\gamma {\\left(\\frac{{\\left(2 \\, Q + 1\\right)} \\log\\left(\\frac{1}{2} \\, Q + \\frac{1}{4}\\right)}{\\log\\left(2\\right)} - \\frac{{\\left(2 \\, Q - 3\\right)} \\log\\left(-\\frac{1}{2} \\, Q + \\frac{3}{4}\\right)}{\\log\\left(2\\right)}\\right)}\\right)} n + \\frac{4 \\, \\sqrt{2} \\sqrt{n} \\sqrt{\\frac{\\log\\left(\\frac{8}{{\\left({\\epsilon^c_{QKD}} - {\\epsilon_{EC}}\\right)}^{2}}\\right)}{\\log\\left(2\\right)}} \\log\\left(2 \\, \\sqrt{2} + 1\\right)}{\\log\\left(2\\right)} + \\frac{\\log\\left(-\\frac{2}{{\\epsilon^c_{QKD}} - {\\epsilon_{EC}} - 2} + \\frac{8}{{\\left({\\epsilon^c_{QKD}} - {\\epsilon_{EC}}\\right)}^{2}}\\right)}{\\log\\left(2\\right)} + \\frac{\\log\\left(\\frac{1}{{\\epsilon_{EC}}}\\right)}{\\log\\left(2\\right)}</script></html>"
      ],
      "text/plain": [
       "'leak_ec: ' 1/4*(4*(gamma - 1)*(Q*log(Q)/log(2) - (Q - 1)*log(-Q + 1)/log(2)) - gamma*((2*Q + 1)*log(1/2*Q + 1/4)/log(2) - (2*Q - 3)*log(-1/2*Q + 3/4)/log(2)))*n + 4*sqrt(2)*sqrt(n)*sqrt(log(8/(eps_c_qkd - eps_ec)^2)/log(2))*log(2*sqrt(2) + 1)/log(2) + log(-2/(eps_c_qkd - eps_ec - 2) + 8/(eps_c_qkd - eps_ec)^2)/log(2) + log(1/eps_ec)/log(2)"
      ]
     },
     "metadata": {},
     "output_type": "display_data"
    },
    {
     "data": {
      "text/html": [
       "<html><script type=\"math/tex; mode=display\">\\newcommand{\\Bold}[1]{\\mathbf{#1}}\\verb|l:| -\\frac{1}{4} \\, {\\left(4 \\, {\\left(\\gamma - 1\\right)} {\\left(\\frac{Q \\log\\left(Q\\right)}{\\log\\left(2\\right)} - \\frac{{\\left(Q - 1\\right)} \\log\\left(-Q + 1\\right)}{\\log\\left(2\\right)}\\right)} - \\gamma {\\left(\\frac{{\\left(2 \\, Q + 1\\right)} \\log\\left(\\frac{1}{2} \\, Q + \\frac{1}{4}\\right)}{\\log\\left(2\\right)} - \\frac{{\\left(2 \\, Q - 3\\right)} \\log\\left(-\\frac{1}{2} \\, Q + \\frac{3}{4}\\right)}{\\log\\left(2\\right)}\\right)}\\right)} n + \\eta_{\\mathit{opt}} n - \\gamma n - \\frac{4 \\, \\sqrt{2} \\sqrt{n} \\sqrt{\\frac{\\log\\left(\\frac{8}{{\\left({\\epsilon^c_{QKD}} - {\\epsilon_{EC}}\\right)}^{2}}\\right)}{\\log\\left(2\\right)}} \\log\\left(2 \\, \\sqrt{2} + 1\\right)}{\\log\\left(2\\right)} - \\frac{2 \\, \\sqrt{n} \\sqrt{-\\frac{2 \\, \\log\\left(\\frac{1}{4} \\, {\\left({\\epsilon_{EC}} + {\\epsilon^s_{QKD}}\\right)} {\\epsilon^s_{QKD}}\\right)}{\\log\\left(2\\right)} + 1} \\log\\left(7\\right)}{\\log\\left(2\\right)} - \\frac{3 \\, \\log\\left(-\\sqrt{-\\frac{1}{16} \\, {\\epsilon^s_{QKD}}^{2} + 1} + 1\\right)}{\\log\\left(2\\right)} - \\frac{\\log\\left(-\\frac{2}{{\\epsilon^c_{QKD}} - {\\epsilon_{EC}} - 2} + \\frac{8}{{\\left({\\epsilon^c_{QKD}} - {\\epsilon_{EC}}\\right)}^{2}}\\right)}{\\log\\left(2\\right)} - \\frac{\\log\\left(\\frac{1}{{\\epsilon_{EC}}}\\right)}{\\log\\left(2\\right)} - \\frac{2 \\, \\log\\left(\\frac{1}{{\\epsilon^s_{QKD}}}\\right)}{\\log\\left(2\\right)}</script></html>"
      ],
      "text/plain": [
       "'l: ' -1/4*(4*(gamma - 1)*(Q*log(Q)/log(2) - (Q - 1)*log(-Q + 1)/log(2)) - gamma*((2*Q + 1)*log(1/2*Q + 1/4)/log(2) - (2*Q - 3)*log(-1/2*Q + 3/4)/log(2)))*n + eta_opt*n - gamma*n - 4*sqrt(2)*sqrt(n)*sqrt(log(8/(eps_c_qkd - eps_ec)^2)/log(2))*log(2*sqrt(2) + 1)/log(2) - 2*sqrt(n)*sqrt(-2*log(1/4*(eps_ec + eps_s_qkd)*eps_s_qkd)/log(2) + 1)*log(7)/log(2) - 3*log(-sqrt(-1/16*eps_s_qkd^2 + 1) + 1)/log(2) - log(-2/(eps_c_qkd - eps_ec - 2) + 8/(eps_c_qkd - eps_ec)^2)/log(2) - log(1/eps_ec)/log(2) - 2*log(1/eps_s_qkd)/log(2)"
      ]
     },
     "metadata": {},
     "output_type": "display_data"
    }
   ],
   "source": [
    "# Key rate curves\n",
    "n = var('n')\n",
    "eps_ec = var('eps_ec', latex_name=\"\\\\epsilon_{EC}\")\n",
    "eps_s_qkd = var('eps_s_qkd', latex_name=\"\\\\epsilon^s_{QKD}\")\n",
    "eps_c_qkd = var('eps_c_qkd', latex_name=\"\\\\epsilon^c_{QKD}\")\n",
    "delta_est = var('delta_est')\n",
    "J_3 = var('J_3')\n",
    "Q = var('Q')\n",
    "eta_opt = var('eta_opt')\n",
    "\n",
    "h = lambda val: -val*log(val, 2) - (1-val)*log(1-val,2) if val != 0 else 0\n",
    "J_3 = 3/4*Q - 1/8\n",
    "r_i = gamma*(2/3-2/3*J_3)\n",
    "\n",
    "#eps_c_ec = eps'_ec + eps_ec\n",
    "\n",
    "leak_ec = n*((1-gamma)*h(Q)+gamma*h(2/3-2/3*J_3)) + sqrt(n)*4*log(2*sqrt(2)+1,2)*sqrt(2*log(8/(eps_c_qkd - eps_ec)^2,2))\\\n",
    "            + log(8/(eps_c_qkd - eps_ec)^2 + 2/(2-(eps_c_qkd - eps_ec)),2) + log(1/eps_ec,2)\n",
    "show(\"leak_ec: \", leak_ec)\n",
    "\n",
    "l = n*eta_opt - leak_ec - 3*log(1-sqrt(1-(eps_s_qkd/4)^2), 2) \\\n",
    "                   - gamma*n - sqrt(n)*2*log(7, 2)*sqrt(1-2*log(eps_s_qkd/4*(eps_ec + eps_s_qkd),2)) - 2*log(1/eps_s_qkd,2)\n",
    "\n",
    "show(\"l: \", l)"
   ]
  },
  {
   "cell_type": "code",
   "execution_count": 7,
   "metadata": {},
   "outputs": [],
   "source": [
    "p0, p1, p2 = var('p0 p1 p2', domain=\"real\")"
   ]
  },
  {
   "cell_type": "code",
   "execution_count": 18,
   "metadata": {},
   "outputs": [
    {
     "name": "stdout",
     "output_type": "stream",
     "text": [
      "verbose 0 (2211: graphics.py, get_minmax_data) ymin was NaN (setting to 0)\n",
      "verbose 0 (2211: graphics.py, get_minmax_data) ymax was NaN (setting to 0)\n"
     ]
    },
    {
     "data": {
      "image/png": "[encoded data removed]",
      "text/plain": [
       "Graphics object consisting of 1 graphics primitive"
      ]
     },
     "metadata": {},
     "output_type": "display_data"
    }
   ],
   "source": [
    "\n",
    "eta = lambda x_0, eps_s, eps_2, n: f1(x=x_0) - 1/sqrt(n)*2*(log(9,2) + dg(x=t)[0])*sqrt(1 - 2*log(eps_s*eps_2,2))\n",
    "L2 = []\n",
    "gamma0=2*(p0*p1 + p0*p2 + p1*p2).subs(p0=0.97, p1=0.015, p2=0.015)\n",
    "n0=10^15\n",
    "for k in range(0, 21):\n",
    "    Q_val = k*0.07/20\n",
    "    x_0 = (gamma*(2/3 - 2/3*J_3) - 10^-3).subs(Q=Q_val)\n",
    "    eta_val = (eta(x_0, eps_s_qkd/4, eps_ec + eps_s_qkd, n)).subs(n=n0) \\\n",
    "                                                        .subs(eps_ec=10^-10) \\\n",
    "                                                        .subs(eps_c_qkd=10^-2) \\\n",
    "                                                        .subs(eps_s_qkd=10^-5) \\\n",
    "                                                        .subs(gamma=gamma0)\n",
    "    \n",
    "    t_0 = solve(eta_val.derivative(t)==0,t)[0].rhs()\n",
    "    l_n_val = (l/n).subs(gamma = gamma0) \\\n",
    "                        .subs(Q = Q_val) \\\n",
    "                        .subs(n=n0) \\\n",
    "                        .subs(eps_c_qkd=10^-2) \\\n",
    "                        .subs(eps_s_qkd=10^-5) \\\n",
    "                        .subs(eps_ec=10^-10) \\\n",
    "                        .subs(eta_opt = eta_val.subs(t=t_0))\n",
    "    \n",
    "    L2.append((Q_val, N(l_n_val)))\n",
    "    \n",
    "plot_q = list_plot(L2, plotjoined=True)\n",
    "show(plot_q)"
   ]
  },
  {
   "cell_type": "code",
   "execution_count": 46,
   "metadata": {},
   "outputs": [
    {
     "data": {
      "image/png": "[encoded data removed]",
      "text/plain": [
       "Graphics object consisting of 3 graphics primitives"
      ]
     },
     "metadata": {},
     "output_type": "display_data"
    }
   ],
   "source": [
    "L3, L4, L5 = [], [], []\n",
    "vals = [10^i for i in range(7, 16)]\n",
    "Q_val = 0.005\n",
    "gamma0=2*(p0*p1 + p0*p2 + p1*p2).subs(p0=0.97, p1=0.015, p2=0.015)\n",
    "for n0 in vals:\n",
    "    x_0 = (gamma*(2/3 - 2/3*J_3) - 10^-3).subs(Q=Q_val)\n",
    "    eta_val = (eta(x_0, eps_s_qkd/4, eps_ec + eps_s_qkd, n)).subs(n=n0) \\\n",
    "                                                        .subs(eps_ec=10^-10) \\\n",
    "                                                        .subs(eps_c_qkd=10^-2) \\\n",
    "                                                        .subs(eps_s_qkd=10^-5) \\\n",
    "                                                        .subs(gamma=gamma0)\n",
    "    \n",
    "    t_0 = solve(eta_val.derivative(t)==0,t)[0].rhs()\n",
    "    l_n_val = (l/n).subs(gamma = gamma0) \\\n",
    "                        .subs(Q = Q_val) \\\n",
    "                        .subs(n=n0) \\\n",
    "                        .subs(eps_c_qkd=10^-2) \\\n",
    "                        .subs(eps_s_qkd=10^-5) \\\n",
    "                        .subs(eps_ec=10^-10) \\\n",
    "                        .subs(eta_opt = eta_val.subs(t=t_0))\n",
    "    \n",
    "    L3.append((n0, N(l_n_val)))\n",
    "    \n",
    "Q_val = 0.025\n",
    "for n0 in vals:\n",
    "    x_0 = (gamma*(2/3 - 2/3*J_3) - 10^-3).subs(Q=Q_val)\n",
    "    eta_val = (eta(x_0, eps_s_qkd/4, eps_ec + eps_s_qkd, n)).subs(n=n0) \\\n",
    "                                                        .subs(eps_ec=10^-10) \\\n",
    "                                                        .subs(eps_c_qkd=10^-2) \\\n",
    "                                                        .subs(eps_s_qkd=10^-5) \\\n",
    "                                                        .subs(gamma=gamma0)\n",
    "    \n",
    "    t_0 = solve(eta_val.derivative(t)==0,t)[0].rhs()\n",
    "    l_n_val = (l/n).subs(gamma = gamma0) \\\n",
    "                        .subs(Q = Q_val) \\\n",
    "                        .subs(n=n0) \\\n",
    "                        .subs(eps_c_qkd=10^-2) \\\n",
    "                        .subs(eps_s_qkd=10^-5) \\\n",
    "                        .subs(eps_ec=10^-10) \\\n",
    "                        .subs(eta_opt = eta_val.subs(t=t_0))\n",
    "    \n",
    "    L4.append((n0, N(l_n_val)))\n",
    "    \n",
    "Q_val = 0.04\n",
    "for n0 in vals:\n",
    "    x_0 = (gamma*(2/3 - 2/3*J_3) - 10^-3).subs(Q=Q_val)\n",
    "    eta_val = (eta(x_0, eps_s_qkd/4, eps_ec + eps_s_qkd, n)).subs(n=n0) \\\n",
    "                                                        .subs(eps_ec=10^-10) \\\n",
    "                                                        .subs(eps_c_qkd=10^-2) \\\n",
    "                                                        .subs(eps_s_qkd=10^-5) \\\n",
    "                                                        .subs(gamma=gamma0)\n",
    "    \n",
    "    t_0 = solve(eta_val.derivative(t)==0,t)[0].rhs()\n",
    "    l_n_val = (l/n).subs(gamma = gamma0) \\\n",
    "                        .subs(Q = Q_val) \\\n",
    "                        .subs(n=n0) \\\n",
    "                        .subs(eps_c_qkd=10^-2) \\\n",
    "                        .subs(eps_s_qkd=10^-5) \\\n",
    "                        .subs(eps_ec=10^-10) \\\n",
    "                        .subs(eta_opt = eta_val.subs(t=t_0))\n",
    "    \n",
    "    L5.append((n0, N(l_n_val)))\n",
    "\n",
    "plot_1 = list_plot(L3, plotjoined=True, scale=('semilogx', 10))\n",
    "plot_1 += list_plot(L4, plotjoined=True, color='red', scale=('semilogx', 10))\n",
    "plot_1 += list_plot(L5, plotjoined=True, color='orange', scale=('semilogx', 10))\n",
    "\n",
    "plot_1.show()\n",
    "\n",
    "#show(L3)"
   ]
  },
  {
   "cell_type": "code",
   "execution_count": 1,
   "metadata": {},
   "outputs": [],
   "source": [
    "alpha = var('alpha')\n",
    "p_alpha = [1/2-alpha/2, 1/2-alpha/2, alpha]\n",
    "p_a_x = lambda x_A, x_B : p_alpha[x_A]*p_alpha[x_B]\n",
    "gamma_alpha = sum(p_a_x(x_A, x_B) for x_A in range(3) \n",
    "                                  for x_B in range(3) if x_A != x_B)"
   ]
  },
  {
   "cell_type": "code",
   "execution_count": 2,
   "metadata": {},
   "outputs": [
    {
     "data": {
      "text/html": [
       "<html><script type=\"math/tex; mode=display\">\\newcommand{\\Bold}[1]{\\mathbf{#1}}-\\frac{3}{2} \\, \\alpha^{2} + \\alpha + \\frac{1}{2}</script></html>"
      ],
      "text/plain": [
       "-3/2*alpha^2 + alpha + 1/2"
      ]
     },
     "metadata": {},
     "output_type": "display_data"
    }
   ],
   "source": [
    "show(gamma_alpha.expand())"
   ]
  },
  {
   "cell_type": "code",
   "execution_count": 21,
   "metadata": {},
   "outputs": [
    {
     "data": {
      "text/plain": [
       "0.749000000000000"
      ]
     },
     "execution_count": 21,
     "metadata": {},
     "output_type": "execute_result"
    }
   ],
   "source": [
    "2/3 - 2/3*(-1/8)\n",
    "N(3/4 - 10^-3)"
   ]
  },
  {
   "cell_type": "code",
   "execution_count": 6,
   "metadata": {},
   "outputs": [
    {
     "data": {
      "text/html": [
       "<html><script type=\"math/tex; mode=display\">\\newcommand{\\Bold}[1]{\\mathbf{#1}}x \\ {\\mapsto}\\ \\frac{\\log\\left(\\frac{1}{2} \\, x\\right)}{2 \\, \\log\\left(2\\right)} - \\frac{\\log\\left(-\\frac{1}{2} \\, x + 1\\right)}{2 \\, \\log\\left(2\\right)}</script></html>"
      ],
      "text/plain": [
       "x |--> 1/2*log(1/2*x)/log(2) - 1/2*log(-1/2*x + 1)/log(2)"
      ]
     },
     "metadata": {},
     "output_type": "display_data"
    },
    {
     "data": {
      "text/html": [
       "<html><script type=\"math/tex; mode=display\">\\newcommand{\\Bold}[1]{\\mathbf{#1}}x \\ {\\mapsto}\\ -\\infty</script></html>"
      ],
      "text/plain": [
       "x |--> -Infinity"
      ]
     },
     "metadata": {},
     "output_type": "display_data"
    }
   ],
   "source": [
    "g2(x) = 1 - h(x/2)\n",
    "show(g2.derivative())\n",
    "show(g2.derivative().subs(x=0))"
   ]
  },
  {
   "cell_type": "code",
   "execution_count": 12,
   "metadata": {},
   "outputs": [
    {
     "data": {
      "text/html": [
       "<html><script type=\"math/tex; mode=display\">\\newcommand{\\Bold}[1]{\\mathbf{#1}}x \\ {\\mapsto}\\ \\left(\\frac{\\log\\left(\\frac{x}{2 \\, {\\left(\\gamma - 1\\right)} \\kappa} + 1\\right)}{2 \\, {\\left(\\gamma - 1\\right)} \\kappa \\log\\left(2\\right)} - \\frac{\\log\\left(-\\frac{x}{2 \\, {\\left(\\gamma - 1\\right)} \\kappa}\\right)}{2 \\, {\\left(\\gamma - 1\\right)} \\kappa \\log\\left(2\\right)}\\right)</script></html>"
      ],
      "text/plain": [
       "x |--> (1/2*log(1/2*x/((gamma - 1)*kappa) + 1)/((gamma - 1)*kappa*log(2)) - 1/2*log(-1/2*x/((gamma - 1)*kappa))/((gamma - 1)*kappa*log(2)))"
      ]
     },
     "metadata": {},
     "output_type": "display_data"
    },
    {
     "data": {
      "text/html": [
       "<html><script type=\"math/tex; mode=display\">\\newcommand{\\Bold}[1]{\\mathbf{#1}}\\frac{2 \\, {\\left(\\gamma \\log\\left(2\\right) - \\log\\left(2\\right)\\right)} \\kappa + {\\left(2 \\, {\\left(\\gamma - 1\\right)} \\kappa + t\\right)} \\log\\left(\\frac{2 \\, {\\left(\\gamma - 1\\right)} \\kappa + t}{2 \\, {\\left(\\gamma - 1\\right)} \\kappa}\\right) - t \\log\\left(-\\frac{t}{2 \\, {\\left(\\gamma - 1\\right)} \\kappa}\\right)}{2 \\, {\\left(\\gamma \\log\\left(2\\right) - \\log\\left(2\\right)\\right)} \\kappa}</script></html>"
      ],
      "text/plain": [
       "1/2*(2*(gamma*log(2) - log(2))*kappa + (2*(gamma - 1)*kappa + t)*log(1/2*(2*(gamma - 1)*kappa + t)/((gamma - 1)*kappa)) - t*log(-1/2*t/((gamma - 1)*kappa)))/((gamma*log(2) - log(2))*kappa)"
      ]
     },
     "metadata": {},
     "output_type": "display_data"
    }
   ],
   "source": [
    "var(\"x t gamma kappa\")\n",
    "h(x) = - x*log(x,2) - (1-x)*log(1-x,2)\n",
    "g2(x) = 1 - h(x/(2*kappa*(1-gamma)))\n",
    "dg2 = g2.derivative()\n",
    "show (dg2)\n",
    "k0 = g2 # x >= t\n",
    "k1 = -dg2(t)[0]*x + g2(t) + dg2(t)[0]*t # x < t \n",
    "show(k1.subs(x=t).simplify_full())"
   ]
  },
  {
   "cell_type": "code",
   "execution_count": null,
   "metadata": {},
   "outputs": [],
   "source": [
    "# Key rate curves\n",
    "n = var('n')\n",
    "eps_ec = var('eps_ec', latex_name=\"\\\\epsilon_{EC}\")\n",
    "eps_s_qkd = var('eps_s_qkd', latex_name=\"\\\\epsilon^s_{QKD}\")\n",
    "eps_c_qkd = var('eps_c_qkd', latex_name=\"\\\\epsilon^c_{QKD}\")\n",
    "delta_est = var('delta_est')\n",
    "J_3 = var('J_3')\n",
    "Q = var('Q')\n",
    "eta_opt = var('eta_opt')\n",
    "\n",
    "h = lambda val: -val*log(val, 2) - (1-val)*log(1-val,2) if val != 0 else 0\n",
    "J_3 = 3/4*Q - 1/8\n",
    "r_i = gamma*(2/3-2/3*J_3)\n",
    "\n",
    "#eps_c_ec = eps'_ec + eps_ec\n",
    "\n",
    "leak_ec = n*((1-gamma)*h(Q)+gamma*h(2/3-2/3*J_3)) + sqrt(n)*4*log(2*sqrt(2)+1,2)*sqrt(2*log(8/(eps_c_qkd - eps_ec)^2,2))\\\n",
    "            + log(8/(eps_c_qkd - eps_ec)^2 + 2/(2-(eps_c_qkd - eps_ec)),2) + log(1/eps_ec,2)\n",
    "show(\"leak_ec: \", leak_ec)\n",
    "\n",
    "l = n*eta_opt - leak_ec - 3*log(1-sqrt(1-(eps_s_qkd/4)^2), 2) \\\n",
    "                   - gamma*n - sqrt(n)*2*log(7, 2)*sqrt(1-2*log(eps_s_qkd/4*(eps_ec + eps_s_qkd),2)) - 2*log(1/eps_s_qkd,2)\n",
    "\n",
    "show(\"l: \", l)"
   ]
  }
 ],
 "metadata": {
  "kernelspec": {
   "display_name": "SageMath 9.1",
   "language": "sage",
   "name": "sagemath"
  },
  "language_info": {
   "codemirror_mode": {
    "name": "ipython",
    "version": 3
   },
   "file_extension": ".py",
   "mimetype": "text/x-python",
   "name": "python",
   "nbconvert_exporter": "python",
   "pygments_lexer": "ipython3",
   "version": "3.7.3"
  }
 },
 "nbformat": 4,
 "nbformat_minor": 2
}
