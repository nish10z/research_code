{
 "cells": [
  {
   "cell_type": "code",
   "execution_count": 2,
   "metadata": {},
   "outputs": [
    {
     "data": {
      "text/html": [
       "<html><script type=\"math/tex; mode=display\">\\newcommand{\\Bold}[1]{\\mathbf{#1}}\\left[\\log\\left(\\frac{2 \\, {\\left({\\left(\\gamma - 1\\right)} \\kappa - \\gamma + 2 \\, p\\right)}}{2 \\, {\\left(\\gamma - 1\\right)} \\kappa + \\gamma}\\right) = \\log\\left(\\frac{3 \\, \\gamma - 4 \\, p}{2 \\, {\\left(\\gamma - 1\\right)} \\kappa + \\gamma}\\right)\\right]</script></html>"
      ],
      "text/plain": [
       "[log(2*((gamma - 1)*kappa - gamma + 2*p)/(2*(gamma - 1)*kappa + gamma)) == log((3*gamma - 4*p)/(2*(gamma - 1)*kappa + gamma))]"
      ]
     },
     "metadata": {},
     "output_type": "display_data"
    }
   ],
   "source": [
    "p, gamma, kappa = var('p gamma kappa', domain='real')\n",
    "\n",
    "h(x) = -x*log(x,2)-(1-x)*log(1-x, 2)\n",
    "g = 1 - h((3*gamma - 4*p)/(gamma - 2*kappa + 2*kappa*gamma))\n",
    "show(solve(g.differentiate(p), p))"
   ]
  },
  {
   "cell_type": "code",
   "execution_count": 3,
   "metadata": {},
   "outputs": [
    {
     "data": {
      "text/html": [
       "<html><script type=\"math/tex; mode=display\">\\newcommand{\\Bold}[1]{\\mathbf{#1}}0</script></html>"
      ],
      "text/plain": [
       "0"
      ]
     },
     "metadata": {},
     "output_type": "display_data"
    }
   ],
   "source": [
    "show(g.subs(p = 1/8*(5*gamma + 2*kappa*(1-gamma))).simplify_full())"
   ]
  },
  {
   "cell_type": "code",
   "execution_count": null,
   "metadata": {},
   "outputs": [],
   "source": []
  }
 ],
 "metadata": {
  "kernelspec": {
   "display_name": "SageMath 9.1",
   "language": "sage",
   "name": "sagemath"
  },
  "language_info": {
   "codemirror_mode": {
    "name": "ipython",
    "version": 3
   },
   "file_extension": ".py",
   "mimetype": "text/x-python",
   "name": "python",
   "nbconvert_exporter": "python",
   "pygments_lexer": "ipython3",
   "version": "3.7.3"
  }
 },
 "nbformat": 4,
 "nbformat_minor": 2
}
