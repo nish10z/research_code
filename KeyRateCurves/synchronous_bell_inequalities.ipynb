{
 "cells": [
  {
   "cell_type": "code",
   "execution_count": 22,
   "metadata": {},
   "outputs": [],
   "source": [
    "iden = matrix.identity(2)\n",
    "iden4 = matrix.identity(4)\n",
    "\n",
    "# Eigenvalues of Alice and Bob's density using the Bell basis\n",
    "l_pp = var('l_pp', domain='real', latex_name='\\\\lambda_{\\\\phi^+}')\n",
    "l_pm = var('l_pm', domain='real', latex_name='\\\\lambda_{\\\\phi^-}')\n",
    "l_sp = var('l_sp', domain='real', latex_name='\\\\lambda_{\\\\psi^+}')\n",
    "l_sm = var('l_sm', domain='real', latex_name='\\\\lambda_{\\\\psi^-}')\n",
    "\n",
    "proj = lambda vec: vec*vec.conjugate_transpose()\n",
    "vc = lambda x: Matrix(x).transpose()\n",
    "\n",
    "# Bell states\n",
    "pp = proj(vc([1/sqrt(2), 0, 0, 1/sqrt(2)]))\n",
    "pm = proj(vc([1/sqrt(2), 0, 0, -1/sqrt(2)]))\n",
    "sp = proj(vc([0, 1/sqrt(2), 1/sqrt(2), 0]))\n",
    "sm = proj(vc([0, 1/sqrt(2), -1/sqrt(2), 0]))\n",
    "\n",
    "# E0, E1, E2, E3 measurement operators\n",
    "E00, E01, E02 = proj(vc([0, 1])), proj(vc([1/2, sqrt(3)/2])), proj(vc([1/2, -sqrt(3)/2]))\n",
    "E10, E11, E12 = proj(vc([0, 1])), proj(vc([1/2, sqrt(3)/2])), proj(vc([sqrt(3)/2, 1/2]))\n",
    "E20, E21, E22 = proj(vc([0, 1])), proj(vc([sqrt(3)/2, 1/2])), proj(vc([1/2, sqrt(3)/2]))\n",
    "E30, E31, E32 = proj(vc([0, 1])), proj(vc([sqrt(3)/2, 1/2])), proj(vc([sqrt(3)/2, -1/2]))\n",
    "E0 = [[iden - E00, E00], [iden - E01, E01], [iden - E02, E02]]\n",
    "E1 = [[iden - E10, E10], [iden - E11, E11], [iden - E12, E12]]\n",
    "E2 = [[iden - E20, E20], [iden - E21, E21], [iden - E22, E22]]\n",
    "E3 = [[iden - E30, E30], [iden - E31, E31], [iden - E32, E32]]\n",
    "\n",
    "c = lambda pr, x_A, x_B, M, rho: sum((-1)^(y_A + y_B) * pr(y_A, y_B, x_A, x_B, M, rho) \\\n",
    "                                     for y_A in range(2) for y_B in range(2))\n",
    "\n",
    "# Bell inequalities\n",
    "J0 = lambda M, rho: 1/4 * (1 - c(p, 0, 1, M, rho) - c(p, 0, 2, M, rho) + c(p, 1, 2, M, rho))\n",
    "J1 = lambda M, rho: 1/4 * (1 - c(p, 0, 1, M, rho) + c(p, 0, 2, M, rho) - c(p, 1, 2, M, rho))\n",
    "J2 = lambda M, rho: 1/4 * (1 + c(p, 0, 1, M, rho) - c(p, 0, 2, M, rho) - c(p, 1, 2, M, rho))\n",
    "J3 = lambda M, rho: 1/4 * (1 + c(p, 0, 1, M, rho) + c(p, 0, 2, M, rho) + c(p, 1, 2, M, rho))\n",
    "J = [J0, J1, J2, J3]\n",
    "\n",
    "# Born rule\n",
    "p = lambda y_A, y_B, x_A, x_B, M, rho: ((M[x_A][y_A].tensor_product(M[x_B][y_B]))*rho).trace()\n",
    "\n",
    "# Compute S given a specific probability distribution and measurement\n",
    "S = lambda M, rho: 1/3 * sum(p(y_A, y_B, x, x, M, rho) for y_A in range(2) for y_B in range(2) \\\n",
    "                      for x in range(3) if y_A != y_B)\n",
    "          \n",
    "# Correlation matrix\n",
    "corr_mat = lambda M, rho: Matrix([[p(j//2, j%2, i//3, i%3, M, rho) for i in range(9)] for j in range(4)])"
   ]
  },
  {
   "cell_type": "code",
   "execution_count": 30,
   "metadata": {},
   "outputs": [],
   "source": [
    "def show_mat_and_j(M):\n",
    "    j_str = lambda rho: \"\".join(\"\\t J\" + str(i) + \": \" + str(J[i](M, rho)) for i in range(4))\n",
    "    show(corr_mat(M, pp), j_str(pp))\n",
    "    show(corr_mat(M, pm), j_str(pm))\n",
    "    show(corr_mat(M, sp), j_str(sp))\n",
    "    show(corr_mat(M, sm), j_str(sm))"
   ]
  },
  {
   "cell_type": "code",
   "execution_count": 31,
   "metadata": {},
   "outputs": [
    {
     "data": {
      "text/html": [
       "<html><script type=\"math/tex; mode=display\">\\newcommand{\\Bold}[1]{\\mathbf{#1}}\\left(\\begin{array}{rrrrrrrrr}\n",
       "\\frac{1}{2} & \\frac{1}{8} & \\frac{1}{8} & \\frac{1}{8} & \\frac{1}{2} & \\frac{1}{8} & \\frac{1}{8} & \\frac{1}{8} & \\frac{1}{2} \\\\\n",
       "0 & \\frac{3}{8} & \\frac{3}{8} & \\frac{3}{8} & 0 & \\frac{3}{8} & \\frac{3}{8} & \\frac{3}{8} & 0 \\\\\n",
       "0 & \\frac{3}{8} & \\frac{3}{8} & \\frac{3}{8} & 0 & \\frac{3}{8} & \\frac{3}{8} & \\frac{3}{8} & 0 \\\\\n",
       "\\frac{1}{2} & \\frac{1}{8} & \\frac{1}{8} & \\frac{1}{8} & \\frac{1}{2} & \\frac{1}{8} & \\frac{1}{8} & \\frac{1}{8} & \\frac{1}{2}\n",
       "\\end{array}\\right) \\verb|\t|\\phantom{\\verb!x!}\\verb|J0:|\\phantom{\\verb!x!}\\verb|3/8\t|\\phantom{\\verb!x!}\\verb|J1:|\\phantom{\\verb!x!}\\verb|3/8\t|\\phantom{\\verb!x!}\\verb|J2:|\\phantom{\\verb!x!}\\verb|3/8\t|\\phantom{\\verb!x!}\\verb|J3:|\\phantom{\\verb!x!}\\verb|-1/8|</script></html>"
      ],
      "text/plain": [
       "[1/2 1/8 1/8 1/8 1/2 1/8 1/8 1/8 1/2]\n",
       "[  0 3/8 3/8 3/8   0 3/8 3/8 3/8   0]\n",
       "[  0 3/8 3/8 3/8   0 3/8 3/8 3/8   0]\n",
       "[1/2 1/8 1/8 1/8 1/2 1/8 1/8 1/8 1/2] '\\t J0: 3/8\\t J1: 3/8\\t J2: 3/8\\t J3: -1/8'"
      ]
     },
     "metadata": {},
     "output_type": "display_data"
    },
    {
     "data": {
      "text/html": [
       "<html><script type=\"math/tex; mode=display\">\\newcommand{\\Bold}[1]{\\mathbf{#1}}\\left(\\begin{array}{rrrrrrrrr}\n",
       "\\frac{1}{2} & \\frac{1}{8} & \\frac{1}{8} & \\frac{1}{8} & \\frac{1}{8} & \\frac{1}{2} & \\frac{1}{8} & \\frac{1}{2} & \\frac{1}{8} \\\\\n",
       "0 & \\frac{3}{8} & \\frac{3}{8} & \\frac{3}{8} & \\frac{3}{8} & 0 & \\frac{3}{8} & 0 & \\frac{3}{8} \\\\\n",
       "0 & \\frac{3}{8} & \\frac{3}{8} & \\frac{3}{8} & \\frac{3}{8} & 0 & \\frac{3}{8} & 0 & \\frac{3}{8} \\\\\n",
       "\\frac{1}{2} & \\frac{1}{8} & \\frac{1}{8} & \\frac{1}{8} & \\frac{1}{8} & \\frac{1}{2} & \\frac{1}{8} & \\frac{1}{2} & \\frac{1}{8}\n",
       "\\end{array}\\right) \\verb|\t|\\phantom{\\verb!x!}\\verb|J0:|\\phantom{\\verb!x!}\\verb|3/4\t|\\phantom{\\verb!x!}\\verb|J1:|\\phantom{\\verb!x!}\\verb|0\t|\\phantom{\\verb!x!}\\verb|J2:|\\phantom{\\verb!x!}\\verb|0\t|\\phantom{\\verb!x!}\\verb|J3:|\\phantom{\\verb!x!}\\verb|1/4|</script></html>"
      ],
      "text/plain": [
       "[1/2 1/8 1/8 1/8 1/8 1/2 1/8 1/2 1/8]\n",
       "[  0 3/8 3/8 3/8 3/8   0 3/8   0 3/8]\n",
       "[  0 3/8 3/8 3/8 3/8   0 3/8   0 3/8]\n",
       "[1/2 1/8 1/8 1/8 1/8 1/2 1/8 1/2 1/8] '\\t J0: 3/4\\t J1: 0\\t J2: 0\\t J3: 1/4'"
      ]
     },
     "metadata": {},
     "output_type": "display_data"
    },
    {
     "data": {
      "text/html": [
       "<html><script type=\"math/tex; mode=display\">\\newcommand{\\Bold}[1]{\\mathbf{#1}}\\left(\\begin{array}{rrrrrrrrr}\n",
       "0 & \\frac{3}{8} & \\frac{3}{8} & \\frac{3}{8} & \\frac{3}{8} & 0 & \\frac{3}{8} & 0 & \\frac{3}{8} \\\\\n",
       "\\frac{1}{2} & \\frac{1}{8} & \\frac{1}{8} & \\frac{1}{8} & \\frac{1}{8} & \\frac{1}{2} & \\frac{1}{8} & \\frac{1}{2} & \\frac{1}{8} \\\\\n",
       "\\frac{1}{2} & \\frac{1}{8} & \\frac{1}{8} & \\frac{1}{8} & \\frac{1}{8} & \\frac{1}{2} & \\frac{1}{8} & \\frac{1}{2} & \\frac{1}{8} \\\\\n",
       "0 & \\frac{3}{8} & \\frac{3}{8} & \\frac{3}{8} & \\frac{3}{8} & 0 & \\frac{3}{8} & 0 & \\frac{3}{8}\n",
       "\\end{array}\\right) \\verb|\t|\\phantom{\\verb!x!}\\verb|J0:|\\phantom{\\verb!x!}\\verb|-1/4\t|\\phantom{\\verb!x!}\\verb|J1:|\\phantom{\\verb!x!}\\verb|1/2\t|\\phantom{\\verb!x!}\\verb|J2:|\\phantom{\\verb!x!}\\verb|1/2\t|\\phantom{\\verb!x!}\\verb|J3:|\\phantom{\\verb!x!}\\verb|1/4|</script></html>"
      ],
      "text/plain": [
       "[  0 3/8 3/8 3/8 3/8   0 3/8   0 3/8]\n",
       "[1/2 1/8 1/8 1/8 1/8 1/2 1/8 1/2 1/8]\n",
       "[1/2 1/8 1/8 1/8 1/8 1/2 1/8 1/2 1/8]\n",
       "[  0 3/8 3/8 3/8 3/8   0 3/8   0 3/8] '\\t J0: -1/4\\t J1: 1/2\\t J2: 1/2\\t J3: 1/4'"
      ]
     },
     "metadata": {},
     "output_type": "display_data"
    },
    {
     "data": {
      "text/html": [
       "<html><script type=\"math/tex; mode=display\">\\newcommand{\\Bold}[1]{\\mathbf{#1}}\\left(\\begin{array}{rrrrrrrrr}\n",
       "0 & \\frac{3}{8} & \\frac{3}{8} & \\frac{3}{8} & 0 & \\frac{3}{8} & \\frac{3}{8} & \\frac{3}{8} & 0 \\\\\n",
       "\\frac{1}{2} & \\frac{1}{8} & \\frac{1}{8} & \\frac{1}{8} & \\frac{1}{2} & \\frac{1}{8} & \\frac{1}{8} & \\frac{1}{8} & \\frac{1}{2} \\\\\n",
       "\\frac{1}{2} & \\frac{1}{8} & \\frac{1}{8} & \\frac{1}{8} & \\frac{1}{2} & \\frac{1}{8} & \\frac{1}{8} & \\frac{1}{8} & \\frac{1}{2} \\\\\n",
       "0 & \\frac{3}{8} & \\frac{3}{8} & \\frac{3}{8} & 0 & \\frac{3}{8} & \\frac{3}{8} & \\frac{3}{8} & 0\n",
       "\\end{array}\\right) \\verb|\t|\\phantom{\\verb!x!}\\verb|J0:|\\phantom{\\verb!x!}\\verb|1/8\t|\\phantom{\\verb!x!}\\verb|J1:|\\phantom{\\verb!x!}\\verb|1/8\t|\\phantom{\\verb!x!}\\verb|J2:|\\phantom{\\verb!x!}\\verb|1/8\t|\\phantom{\\verb!x!}\\verb|J3:|\\phantom{\\verb!x!}\\verb|5/8|</script></html>"
      ],
      "text/plain": [
       "[  0 3/8 3/8 3/8   0 3/8 3/8 3/8   0]\n",
       "[1/2 1/8 1/8 1/8 1/2 1/8 1/8 1/8 1/2]\n",
       "[1/2 1/8 1/8 1/8 1/2 1/8 1/8 1/8 1/2]\n",
       "[  0 3/8 3/8 3/8   0 3/8 3/8 3/8   0] '\\t J0: 1/8\\t J1: 1/8\\t J2: 1/8\\t J3: 5/8'"
      ]
     },
     "metadata": {},
     "output_type": "display_data"
    }
   ],
   "source": [
    "show_mat_and_j(E3)"
   ]
  },
  {
   "cell_type": "code",
   "execution_count": null,
   "metadata": {},
   "outputs": [],
   "source": []
  }
 ],
 "metadata": {
  "kernelspec": {
   "display_name": "SageMath 9.1",
   "language": "sage",
   "name": "sagemath"
  }
 },
 "nbformat": 4,
 "nbformat_minor": 2
}
